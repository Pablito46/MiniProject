{
 "cells": [
  {
   "cell_type": "markdown",
   "metadata": {},
   "source": [
    "On importe le fichier"
   ]
  },
  {
   "cell_type": "code",
   "execution_count": 9,
   "metadata": {},
   "outputs": [],
   "source": [
    "import pandas as pd\n",
    "df = pd.read_csv(\"Data_IRFCL_ARA.csv\",delimiter=\",\")\n"
   ]
  },
  {
   "cell_type": "code",
   "execution_count": 13,
   "metadata": {},
   "outputs": [
    {
     "data": {
      "text/plain": [
       "Index(['country', 'iso', 'year', 'deposits', 'securities', 'country_id',\n",
       "       'region', 'reserves_ara', '_merge', 'share_securities',\n",
       "       'share_deposits'],\n",
       "      dtype='object')"
      ]
     },
     "execution_count": 13,
     "metadata": {},
     "output_type": "execute_result"
    }
   ],
   "source": [
    "df.columns"
   ]
  },
  {
   "cell_type": "code",
   "execution_count": 14,
   "metadata": {},
   "outputs": [
    {
     "name": "stdout",
     "output_type": "stream",
     "text": [
      "           country  iso  year  deposits  securities  country_id region  \\\n",
      "0           ANGOLA  AGO  1999       NaN         NaN         2.0    AFR   \n",
      "1           ANGOLA  AGO  2000       NaN         NaN         2.0    AFR   \n",
      "2           ANGOLA  AGO  2001       NaN         NaN         2.0    AFR   \n",
      "3           ANGOLA  AGO  2002       NaN         NaN         2.0    AFR   \n",
      "4           ANGOLA  AGO  2003       NaN         NaN         2.0    AFR   \n",
      "...            ...  ...   ...       ...         ...         ...    ...   \n",
      "3695  South Africa  ZAF  1994       NaN         NaN         NaN    AFR   \n",
      "3696  South Africa  ZAF  1995       NaN         NaN         NaN    AFR   \n",
      "3697  South Africa  ZAF  1996       NaN         NaN         NaN    AFR   \n",
      "3698  South Africa  ZAF  1997       NaN         NaN         NaN    AFR   \n",
      "3699  South Africa  ZAF  1998       NaN         NaN         NaN    AFR   \n",
      "\n",
      "      reserves_ara          _merge  share_securities  share_deposits  \n",
      "0              NaN     Matched (3)               NaN             NaN  \n",
      "1              NaN     Matched (3)               NaN             NaN  \n",
      "2              NaN     Matched (3)               NaN             NaN  \n",
      "3              NaN     Matched (3)               NaN             NaN  \n",
      "4              NaN     Matched (3)               NaN             NaN  \n",
      "...            ...             ...               ...             ...  \n",
      "3695     23.060787  Using only (2)               NaN             NaN  \n",
      "3696     27.299618  Using only (2)               NaN             NaN  \n",
      "3697     14.669089  Using only (2)               NaN             NaN  \n",
      "3698     35.768669  Using only (2)               NaN             NaN  \n",
      "3699     32.846752  Using only (2)               NaN             NaN  \n",
      "\n",
      "[3700 rows x 11 columns]\n"
     ]
    }
   ],
   "source": [
    "print(df)"
   ]
  },
  {
   "cell_type": "code",
   "execution_count": null,
   "metadata": {},
   "outputs": [],
   "source": []
  }
 ],
 "metadata": {
  "kernelspec": {
   "display_name": "base",
   "language": "python",
   "name": "python3"
  },
  "language_info": {
   "codemirror_mode": {
    "name": "ipython",
    "version": 3
   },
   "file_extension": ".py",
   "mimetype": "text/x-python",
   "name": "python",
   "nbconvert_exporter": "python",
   "pygments_lexer": "ipython3",
   "version": "3.12.7"
  }
 },
 "nbformat": 4,
 "nbformat_minor": 2
}
